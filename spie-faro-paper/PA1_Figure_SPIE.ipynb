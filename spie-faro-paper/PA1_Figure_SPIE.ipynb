{
 "cells": [
  {
   "cell_type": "code",
   "execution_count": 1,
   "id": "ad5f5a8b-53f0-4eb7-b2cf-6f82cac38f43",
   "metadata": {},
   "outputs": [],
   "source": [
    "# General python imports\n",
    "import numpy as np\n",
    "\n",
    "# Astropy\n",
    "from astropy.visualization import  ZScaleInterval, AsinhStretch\n",
    "import astropy.units as u\n",
    "from astropy.time import Time\n",
    "from datetime import datetime\n",
    "\n",
    "import fitsio\n",
    "from math import ceil\n",
    "import pandas as pd\n",
    "\n",
    "# LSST imports\n",
    "from lsst.daf.butler import Butler\n",
    "import lsst.geom as geom\n",
    "\n",
    "import matplotlib.pyplot as plt\n",
    "import matplotlib.colors as mpl_colors\n",
    "\n",
    "plt.style.use('~/.config/matplotlib/spie-faro.mplstyle')\n",
    "plt.rcParams[\"font.family\"] = \"serif\"\n",
    "plt.rcParams[\"font.serif\"] = \"Times New Roman\"\n",
    "px = 1/plt.rcParams['figure.dpi']  # pixel in inches"
   ]
  },
  {
   "cell_type": "code",
   "execution_count": 2,
   "id": "edce7d52-f3e4-4048-8a54-d619d7945193",
   "metadata": {},
   "outputs": [],
   "source": [
    "def get_date(visit):\n",
    "    visit=str(visit)\n",
    "    year=int(visit[:4])\n",
    "    month=int(visit[4:6])\n",
    "    day=int(visit[6:8])\n",
    "    t = Time(datetime(year, month, day), scale='utc')\n",
    "    return t.mjd\n",
    "\n",
    "\n",
    "def cutout_calexp(butler, ra, dec, visit, band='g', detector=0, instrument='LATISS', datasetType='calexp',\n",
    "                 skymap=None, cutoutSideLength=201, **kwargs):\n",
    "    \"\"\"\n",
    "    Produce a cutout from a coadd at the given ra, dec position.\n",
    "\n",
    "    Adapted from DC2 tutorial notebook by Michael Wood-Vasey.\n",
    "\n",
    "    Parameters\n",
    "    ----------\n",
    "    butler: lsst.daf.persistence.Butler\n",
    "        Servant providing access to a data repository\n",
    "    ra: float\n",
    "        Right ascension of the center of the cutout, in degrees\n",
    "    dec: float\n",
    "        Declination of the center of the cutout, in degrees\n",
    "    band: string\n",
    "        Filter of the image to load\n",
    "    datasetType: string ['deepCoadd']\n",
    "        Which type of coadd to load.  Doesn't support 'calexp'\n",
    "    skymap: lsst.afw.skyMap.SkyMap [optional]\n",
    "        Pass in to avoid the Butler read.  Useful if you have lots of them.\n",
    "    cutoutSideLength: float [optional]\n",
    "        Size of the cutout region in pixels.\n",
    "\n",
    "    Returns\n",
    "    -------\n",
    "    MaskedImage\n",
    "    \"\"\"\n",
    "    radec = geom.SpherePoint(ra, dec, geom.degrees)\n",
    "    cutoutSize = geom.ExtentI(cutoutSideLength, cutoutSideLength)\n",
    "\n",
    "    if skymap is None:\n",
    "        skymap = butler.get(\"skyMap\", dataId={'skymap':'at_discrete_v2'}, collections=collections)\n",
    "    calexpId = {'band': band, 'skymap':'at_discrete_v2', 'instrument': instrument, 'detector': detector, 'visit': visit}\n",
    "    # Look up the tract, patch for the RA, Dec\n",
    "    wcs=butler.get('calexp.wcs', **calexpId, collections=collections)\n",
    "    xy = geom.PointI(wcs.skyToPixel(radec))\n",
    "    bbox = geom.BoxI(xy - cutoutSize // 2, cutoutSize)\n",
    "\n",
    "    \n",
    "    parameters = {'bbox': bbox}\n",
    "\n",
    "    cutout_image = butler.get(datasetType, parameters=parameters,\n",
    "                              #immediate=True, \n",
    "                    \n",
    "                              dataId=calexpId, collections=collections)\n",
    "\n",
    "    return cutout_image\n",
    "\n",
    "def create_stich(visit_list, sub_catalog, butler,columns=3,band=\"g\",cutoutSideLength=100,):\n",
    "    nvisit=len(visit_list)\n",
    "    rows=3# ceil(nvisit/columns)\n",
    "    stich=np.ones((cutoutSideLength*rows +10*(rows-1),cutoutSideLength*columns+10*(columns-1)))*np.nan\n",
    "    for i in range(rows):\n",
    "        for j in range(columns):\n",
    "            if ((columns*i+j)+1 <= len(visit_list)) & ((columns*i+j)+1 <= 9):\n",
    "                visit=visit_list[columns*i+j]\n",
    "                #print(i,j)\n",
    "                row=sub_catalog.loc[(sub_catalog[\"visit\"]==visit),:]\n",
    "                ra=row[\"ra\"].values\n",
    "                dec=row[\"decl\"].values\n",
    "                #ra/dec must be in deg\n",
    "                print(visit)#, np.round(ra,3),np.round(dec,3))\n",
    "                cutout=cutout_calexp(butler, ra, dec, visit, band=band, detector=0, instrument='LATISS', datasetType='calexp',\n",
    "                     skymap=None, cutoutSideLength=cutoutSideLength)\n",
    "                stich[i*10+i*cutoutSideLength:i*10+(i+1)*cutoutSideLength,\n",
    "                  j*10+j*cutoutSideLength:j*10+(j+1)*cutoutSideLength]=cutout.image.array\n",
    "    return stich"
   ]
  },
  {
   "cell_type": "code",
   "execution_count": 3,
   "id": "c506ad8c-97f4-4b79-9c82-d836acbdf654",
   "metadata": {},
   "outputs": [],
   "source": [
    "def create_catalog(butler, band=[\"g\",\"r\",\"i\"],pixcut=True, collections='isolatedStarAssociation_rerun/20220426T223510Z'):\n",
    "    ISS_dataid=sorted(butler.registry.queryDatasets('isolated_star_sources', \n",
    "                                                    collections=collections))[0].dataId\n",
    "    catalog=butler.get('isolated_star_sources',dataId=ISS_dataid, collections=collections)\n",
    "    sel=(catalog[\"psfFlux\"]/catalog[\"psfFluxErr\"] > 50) & (catalog['apFlux_17_0_flag']==0) & np.isin(catalog[\"band\"],band)\n",
    "    if pixcut:\n",
    "        sel &= (catalog[\"y\"] > 1000) & (catalog[\"y\"] < 3000)\n",
    "        sel &= (catalog[\"x\"] > 1000) & (catalog[\"x\"] < 3000)\n",
    "    catalog=catalog.loc[sel,:]    \n",
    "    print(len(catalog))\n",
    "    psfmags = (catalog.loc[:, 'psfFlux'].values*u.nJy).to(u.ABmag).value\n",
    "    apermags = (catalog.loc[:, 'apFlux_12_0_instFlux'].values*u.nJy).to(u.ABmag).value\n",
    "    \n",
    "    catalog = catalog.assign(**{'psfMag': psfmags})\n",
    "    catalog = catalog.assign(**{'aperMag': apermags})\n",
    "    magColumn=\"psfMag\"\n",
    "    catalog.loc[:,\"magMean\"]=catalog.groupby(\"obj_index\")[magColumn].transform(np.mean)\n",
    "    catalog.loc[:,\"magMedian\"]=catalog.groupby(\"obj_index\")[magColumn].transform(np.median)\n",
    "    catalog.loc[:,\"rms\"]=catalog.groupby(\"obj_index\")[magColumn].transform(np.nanstd)\n",
    "    catalog.loc[:,\"count\"]=catalog.groupby(\"obj_index\")[magColumn].transform(np.count_nonzero)\n",
    "    catalog.loc[:,\"mean_resid\"]=catalog.groupby(\"obj_index\")[magColumn].transform(lambda x: np.array(x-np.mean(x)))\n",
    "    catalog.loc[:,\"mean_resid_mmag\"]=catalog[\"mean_resid\"]*1e3\n",
    "    catalog.loc[:,\"median_resid\"]=catalog.groupby(\"obj_index\")[magColumn].transform(lambda x: np.array(x-np.median(x)))\n",
    "    catalog.loc[:,\"mjd\"]=catalog.groupby(\"visit\")[\"visit\"].transform(lambda x: get_date(np.unique(x)[0]))\n",
    "    \n",
    "    catalog=catalog.loc[~np.isnan(catalog[\"rms\"]),:]\n",
    "    print(len(catalog))\n",
    "    if pixcut:\n",
    "        catalog=catalog.loc[(catalog[\"count\"] > 6),:]\n",
    "    catalog=catalog.reset_index()\n",
    "    return catalog\n",
    "\n",
    "def scale_image(image):\n",
    "    transform = AsinhStretch() + ZScaleInterval()\n",
    "    scaledImage = transform(image)\n",
    "    scaledImage = np.flipud(scaledImage)\n",
    "    return scaledImag"
   ]
  },
  {
   "cell_type": "code",
   "execution_count": 4,
   "id": "753e9b3c-4b0e-41a4-8ad1-8f42de98436d",
   "metadata": {},
   "outputs": [],
   "source": [
    "repo= \"/project/edennihy/auxtelImagingSurveys/data/butler.yaml\"\n",
    "#collection = '2.2i/runs/DP0.1'\n",
    "butler = Butler(repo)#, collections=collection)\n",
    "band=\"g\""
   ]
  },
  {
   "cell_type": "code",
   "execution_count": 5,
   "id": "d0559110-0ca3-4237-9412-4e4b43301b47",
   "metadata": {},
   "outputs": [],
   "source": [
    "collections=sorted(butler.registry.queryCollections())\n",
    "butler = Butler(repo, collections=collections)\n",
    "registry=butler.registry"
   ]
  },
  {
   "cell_type": "code",
   "execution_count": 6,
   "id": "450f0b8f-977f-452b-b794-b994e9fd6d42",
   "metadata": {},
   "outputs": [
    {
     "name": "stdout",
     "output_type": "stream",
     "text": [
      "49544\n",
      "48631\n",
      "77471\n",
      "75954\n",
      "80571\n",
      "78557\n"
     ]
    }
   ],
   "source": [
    "pixcut=False\n",
    "catalog_g=create_catalog(butler, band=\"g\",pixcut=pixcut)\n",
    "catalog_r=create_catalog(butler, band=\"r\",pixcut=pixcut)\n",
    "catalog_i=create_catalog(butler, band=\"i\",pixcut=pixcut)\n",
    "#catalog=catalog_g.copy()"
   ]
  },
  {
   "cell_type": "code",
   "execution_count": 7,
   "id": "60dde148-cbdd-49f9-aa14-ebcab52593ca",
   "metadata": {},
   "outputs": [
    {
     "data": {
      "text/html": [
       "<div>\n",
       "<style scoped>\n",
       "    .dataframe tbody tr th:only-of-type {\n",
       "        vertical-align: middle;\n",
       "    }\n",
       "\n",
       "    .dataframe tbody tr th {\n",
       "        vertical-align: top;\n",
       "    }\n",
       "\n",
       "    .dataframe thead th {\n",
       "        text-align: right;\n",
       "    }\n",
       "</style>\n",
       "<table border=\"1\" class=\"dataframe\">\n",
       "  <thead>\n",
       "    <tr style=\"text-align: right;\">\n",
       "      <th></th>\n",
       "      <th>obj_index</th>\n",
       "      <th>rms</th>\n",
       "      <th>magMean</th>\n",
       "    </tr>\n",
       "  </thead>\n",
       "  <tbody>\n",
       "    <tr>\n",
       "      <th>48621</th>\n",
       "      <td>46403</td>\n",
       "      <td>0.003482</td>\n",
       "      <td>12.713323</td>\n",
       "    </tr>\n",
       "    <tr>\n",
       "      <th>48622</th>\n",
       "      <td>46403</td>\n",
       "      <td>0.003482</td>\n",
       "      <td>12.713323</td>\n",
       "    </tr>\n",
       "  </tbody>\n",
       "</table>\n",
       "</div>"
      ],
      "text/plain": [
       "       obj_index       rms    magMean\n",
       "48621      46403  0.003482  12.713323\n",
       "48622      46403  0.003482  12.713323"
      ]
     },
     "execution_count": 7,
     "metadata": {},
     "output_type": "execute_result"
    }
   ],
   "source": [
    "catalog_g[catalog_g['obj_index'] == 46403][['obj_index', 'rms', 'magMean']]"
   ]
  },
  {
   "cell_type": "markdown",
   "id": "034fc27c-dd6b-4f14-801d-e5f05c8de56e",
   "metadata": {},
   "source": [
    "### Histograms of RMS measurements"
   ]
  },
  {
   "cell_type": "code",
   "execution_count": 8,
   "id": "c78614ba-b316-4302-a8a5-8afc6c6d07db",
   "metadata": {},
   "outputs": [
    {
     "name": "stdout",
     "output_type": "stream",
     "text": [
      "PA1:$g$ 40.56417 mmag PA1:$r$ 25.58958 mmag PA1:$i$ 24.66822 mmag\n"
     ]
    }
   ],
   "source": [
    "pa1g=np.median(catalog_g[\"rms\"]*1e3)\n",
    "pa1r=np.median(catalog_r[\"rms\"]*1e3)\n",
    "pa1i=np.median(catalog_i[\"rms\"]*1e3)\n",
    "print('PA1:$g$',f'{pa1g:5.5f} mmag', 'PA1:$r$', f'{pa1r:5.5f} mmag', 'PA1:$i$', f'{pa1i:5.5f} mmag')"
   ]
  },
  {
   "cell_type": "code",
   "execution_count": 9,
   "id": "9786f1f6-09e8-43fd-8a12-f0287f88a03d",
   "metadata": {},
   "outputs": [
    {
     "name": "stdout",
     "output_type": "stream",
     "text": [
      "u : #56b4e9\n",
      "g : #008060\n",
      "r : #ff4000\n",
      "i : #850000\n",
      "z : #6600cc\n",
      "Y : #000000\n"
     ]
    }
   ],
   "source": [
    "# from descolors import BAND_COLORS\n",
    "   \n",
    "from collections import OrderedDict as odict\n",
    "BAND_COLORS = odict([\n",
    "    ('u','#56b4e9'),\n",
    "    ('g','#008060'),\n",
    "    ('r','#ff4000'),\n",
    "    ('i','#850000'),\n",
    "    ('z','#6600cc'),\n",
    "    ('Y','#000000'),\n",
    "])\n",
    "for name,color in BAND_COLORS.items():\n",
    "    print(\"%s : %s\"%(name,color))"
   ]
  },
  {
   "cell_type": "code",
   "execution_count": 10,
   "id": "b4016dbc-7995-4e05-896e-ff9037100a66",
   "metadata": {
    "tags": []
   },
   "outputs": [
    {
     "data": {
      "text/html": [
       "<pre style=\"margin: 0.1em;\n",
       "padding-left: 0.25em;\n",
       "border-left-style: solid;\n",
       "font-family: var(--jp-code-font-family);\n",
       "font-size: var(--jp-code-font-size);\n",
       "line-height: var(--jp-code-line-height);\n",
       "\"><span style=\"color: var(--jp-warn-color2)\">matplotlib.font_manager</span> <span style=\"color: var(--jp-warn-color0)\">WARNING</span>: findfont: Font family [&#x27;serif&#x27;] not found. Falling back to DejaVu Sans.</pre>"
      ],
      "text/plain": [
       "<IPython.core.display.HTML object>"
      ]
     },
     "metadata": {},
     "output_type": "display_data"
    },
    {
     "data": {
      "text/html": [
       "<pre style=\"margin: 0.1em;\n",
       "padding-left: 0.25em;\n",
       "border-left-style: solid;\n",
       "font-family: var(--jp-code-font-family);\n",
       "font-size: var(--jp-code-font-size);\n",
       "line-height: var(--jp-code-line-height);\n",
       "\"><span style=\"color: var(--jp-warn-color2)\">matplotlib.font_manager</span> <span style=\"color: var(--jp-warn-color0)\">WARNING</span>: findfont: Generic family &#x27;serif&#x27; not found because none of the following families were found: Times New Roman</pre>"
      ],
      "text/plain": [
       "<IPython.core.display.HTML object>"
      ]
     },
     "metadata": {},
     "output_type": "display_data"
    },
    {
     "data": {
      "text/html": [
       "<pre style=\"margin: 0.1em;\n",
       "padding-left: 0.25em;\n",
       "border-left-style: solid;\n",
       "font-family: var(--jp-code-font-family);\n",
       "font-size: var(--jp-code-font-size);\n",
       "line-height: var(--jp-code-line-height);\n",
       "\"><span style=\"color: var(--jp-warn-color2)\">matplotlib.font_manager</span> <span style=\"color: var(--jp-warn-color0)\">WARNING</span>: findfont: Font family [&#x27;serif&#x27;] not found. Falling back to DejaVu Sans.</pre>"
      ],
      "text/plain": [
       "<IPython.core.display.HTML object>"
      ]
     },
     "metadata": {},
     "output_type": "display_data"
    },
    {
     "data": {
      "text/html": [
       "<pre style=\"margin: 0.1em;\n",
       "padding-left: 0.25em;\n",
       "border-left-style: solid;\n",
       "font-family: var(--jp-code-font-family);\n",
       "font-size: var(--jp-code-font-size);\n",
       "line-height: var(--jp-code-line-height);\n",
       "\"><span style=\"color: var(--jp-warn-color2)\">matplotlib.font_manager</span> <span style=\"color: var(--jp-warn-color0)\">WARNING</span>: findfont: Generic family &#x27;serif&#x27; not found because none of the following families were found: Times New Roman</pre>"
      ],
      "text/plain": [
       "<IPython.core.display.HTML object>"
      ]
     },
     "metadata": {},
     "output_type": "display_data"
    },
    {
     "data": {
      "image/png": "[encoded data removed]",
      "text/plain": [
       "<Figure size 432x216 with 1 Axes>"
      ]
     },
     "metadata": {
      "needs_background": "light"
     },
     "output_type": "display_data"
    }
   ],
   "source": [
    "plt.subplots(1,1,figsize=(600*px, 300*px))\n",
    "#plt.subplots(1,1,figsize=(10, 5))\n",
    "\n",
    "#plt.subplots(1,1,dpi=125)\n",
    "# colors=[\"tab:green\",\"tab:red\",\"tab:purple\"]\n",
    "colors=[BAND_COLORS.get('g'), BAND_COLORS.get('r'), BAND_COLORS.get('i')]\n",
    "alpa = 0.3\n",
    "lw=1\n",
    "plt.subplot(111)\n",
    "#plt.suptitle(\"LATISS PA1 - Full Detector\", y=0.95)\n",
    "# histtype=\"step\"\n",
    "\n",
    "plt.hist(catalog_g[\"rms\"]*1e3, bins=np.arange(0,300,2.5), histtype='step', linewidth=lw, color=colors[0], label=f'PA1 g: {pa1g:0.0f} mmag')\n",
    "plt.hist(catalog_r[\"rms\"]*1e3, bins=np.arange(0,300,2.5), histtype='step', linewidth=lw, color=colors[1], label=f'PA1 r: {pa1r:0.0f} mmag')\n",
    "plt.hist(catalog_i[\"rms\"]*1e3, bins=np.arange(0,300,2.5), histtype='step', linewidth=lw, color=colors[2], label=f'PA1 i: {pa1i:0.0f} mmag')\n",
    "\n",
    "\n",
    "plt.hist(catalog_r[\"rms\"]*1e3, bins=np.arange(0,300,2.5), alpha=alpa, linewidth=lw, color=colors[1], label='__no label__')\n",
    "plt.hist(catalog_i[\"rms\"]*1e3, bins=np.arange(0,300,2.5), alpha=alpa, linewidth=lw, color=colors[2], label='__no label__')\n",
    "plt.hist(catalog_g[\"rms\"]*1e3, bins=np.arange(0,300,2.5), alpha=alpa, linewidth=lw, color=colors[0], label='__no label__')\n",
    "\n",
    "    \n",
    "plt.axvline(np.median(catalog_r[\"rms\"]*1e3), color=colors[1], ls=\"dashed\", label='_nolegend_')\n",
    "plt.axvline(np.median(catalog_i[\"rms\"]*1e3), color=colors[2], ls=\"dashed\", label='_nolegend_')\n",
    "plt.axvline(np.median(catalog_g[\"rms\"]*1e3), color=colors[0], ls=\"dashed\", label='_nolegend_')\n",
    "\n",
    "# Plot non-visible lines for column layout in lgend\n",
    "plt.plot(np.nan, np.nan, '.', ms=0)\n",
    "plt.plot(np.nan, np.nan, '.', ms=0)\n",
    "plt.plot(np.nan, np.nan, '.', ms=0)\n",
    "# plt.legend(['PA1 g:', 'PA1 r:', 'PA1 i:',\n",
    "#             f'{pa1g:0.0f} mmag', f'{pa1r:0.0f} mmag', f'{pa1i:0.0f} mmag'],\n",
    "#              ncol=2, columnspacing=-2.5)\n",
    "plt.legend()\n",
    "plt.xlabel(\"Photometric Repeatability RMS (mmag)\")\n",
    "plt.ylabel(\"Counts per bin\")\n",
    "plt.xticks(np.arange(0,300,25))\n",
    "plt.xlim(0,170)\n",
    "plt.yscale(\"linear\")\n",
    "\n",
    "ax = plt.gca()\n",
    "# ax.xaxis.get_major_ticks()[0].set_visible(False)\n",
    "# ax.yaxis.get_major_ticks()[0].set_visible(False)\n",
    "\n",
    "plt\n",
    "plt.savefig(\"./pa1_auxtel.png\", facecolor=\"white\", dpi=300)"
   ]
  },
  {
   "cell_type": "markdown",
   "id": "6cd28a02-8a79-439f-8e0d-675d624a4828",
   "metadata": {},
   "source": [
    "### Central Sources Only ###"
   ]
  },
  {
   "cell_type": "code",
   "execution_count": 11,
   "id": "4fb2dce7-9dde-49c3-b0ef-e42160b738bb",
   "metadata": {},
   "outputs": [
    {
     "name": "stdout",
     "output_type": "stream",
     "text": [
      "14075\n",
      "13625\n",
      "22159\n",
      "21407\n",
      "23470\n",
      "22509\n"
     ]
    }
   ],
   "source": [
    "pixcut=True\n",
    "catalog_g_central=create_catalog(butler, band=\"g\",pixcut=pixcut)\n",
    "catalog_r_central=create_catalog(butler, band=\"r\",pixcut=pixcut)\n",
    "catalog_i_central=create_catalog(butler, band=\"i\",pixcut=pixcut)"
   ]
  },
  {
   "cell_type": "code",
   "execution_count": 12,
   "id": "8ebcad18-3000-4776-b291-943de2286a16",
   "metadata": {},
   "outputs": [
    {
     "data": {
      "image/png": "[encoded data removed]",
      "text/plain": [
       "<Figure size 432x216 with 1 Axes>"
      ]
     },
     "metadata": {
      "needs_background": "light"
     },
     "output_type": "display_data"
    }
   ],
   "source": [
    "plt.subplots(figsize=(600*px, 300*px))\n",
    "\n",
    "#plt.subplots(1,1,dpi=125)\n",
    "#colors=[\"tab:green\",\"tab:red\",\"tab:purple\"]\n",
    "plt.subplot(111)\n",
    "#plt.suptitle(\"LATISS PA1 - Central Detector Region\", y=0.95)\n",
    "pa1g=np.median(catalog_g_central[\"rms\"]*1e3)\n",
    "pa1r=np.median(catalog_r_central[\"rms\"]*1e3)\n",
    "pa1i=np.median(catalog_i_central[\"rms\"]*1e3)\n",
    "\n",
    "plt.hist(catalog_g_central[\"rms\"]*1e3, bins=np.arange(0,300,2.5), histtype='step', linewidth=lw, color=colors[0], label=f'PA1 g: {pa1g:0.0f} mmag')\n",
    "plt.hist(catalog_r_central[\"rms\"]*1e3, bins=np.arange(0,300,2.5), histtype='step', linewidth=lw, color=colors[1], label=f'PA1 r: {pa1r:0.0f} mmag')\n",
    "plt.hist(catalog_i_central[\"rms\"]*1e3, bins=np.arange(0,300,2.5), histtype='step', linewidth=lw, color=colors[2], label=f'PA1 i: {pa1i:0.0f} mmag')\n",
    "\n",
    "plt.hist(catalog_r_central[\"rms\"]*1e3, bins=np.arange(0,300,2.5), alpha=alpa, linewidth=lw, color=colors[1], label='__no label__')\n",
    "\n",
    "plt.hist(catalog_i_central[\"rms\"]*1e3, bins=np.arange(0,300,2.5), alpha=alpa, linewidth=lw, color=colors[2], label='__no label__')\n",
    "\n",
    "plt.hist(catalog_g_central[\"rms\"]*1e3, bins=np.arange(0,300,2.5), alpha=alpa, linewidth=lw, color=colors[0], label='__no label__')\n",
    "\n",
    "\n",
    "plt.axvline(np.median(catalog_r_central[\"rms\"]*1e3), color=colors[1], ls=\"dashed\", label='_nolegend_')\n",
    "plt.axvline(np.median(catalog_i_central[\"rms\"]*1e3), color=colors[2], ls=\"dashed\", label='_nolegend_')\n",
    "plt.axvline(np.median(catalog_g_central[\"rms\"]*1e3), color=colors[0], ls=\"dashed\", label='_nolegend_')\n",
    "\n",
    "# Plot non-visible lines for column layout in lgend\n",
    "plt.plot(np.nan, np.nan, '.', ms=0)\n",
    "plt.plot(np.nan, np.nan, '.', ms=0)\n",
    "plt.plot(np.nan, np.nan, '.', ms=0)\n",
    "plt.legend()\n",
    "plt.xlabel(\"Photometric Repeatability RMS (mmag)\")\n",
    "plt.ylabel(\"Counts per bin\")\n",
    "plt.xticks(np.arange(0,300,25))\n",
    "plt.xlim(0,170)\n",
    "plt.yscale(\"linear\")\n",
    "plt.savefig(\"./pa1_auxtel_central.png\" , facecolor=\"white\", dpi=300)"
   ]
  },
  {
   "cell_type": "code",
   "execution_count": null,
   "id": "910ea76b-aa51-4fdc-bc90-8fda62e914aa",
   "metadata": {},
   "outputs": [],
   "source": []
  }
 ],
 "metadata": {
  "kernelspec": {
   "display_name": "LSST",
   "language": "python",
   "name": "lsst"
  },
  "language_info": {
   "codemirror_mode": {
    "name": "ipython",
    "version": 3
   },
   "file_extension": ".py",
   "mimetype": "text/x-python",
   "name": "python",
   "nbconvert_exporter": "python",
   "pygments_lexer": "ipython3",
   "version": "3.10.4"
  }
 },
 "nbformat": 4,
 "nbformat_minor": 5
}
