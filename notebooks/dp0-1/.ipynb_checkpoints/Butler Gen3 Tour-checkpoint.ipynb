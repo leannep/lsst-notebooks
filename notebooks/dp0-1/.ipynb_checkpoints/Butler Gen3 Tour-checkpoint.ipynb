{
 "cells": [
  {
   "cell_type": "markdown",
   "id": "a93eb1d0-4b57-42d3-9ce4-dec2d3d0b837",
   "metadata": {},
   "source": [
    "<b><img align=\"left\" src = https://project.lsst.org/sites/default/files/Rubin-O-Logo_0.png width=250, style=\"padding: 10px\"> \n",
    "<p><p><p><p><p><p>\n",
    "<b>Playing with Images</b> <br>\n",
    "Last verified to run on 2022-04-26 with LSST Science Pipelines release w_2022_12 <br>\n",
    "Contact authors: Leanne Guy <br>\n",
    "Target audience: All DP0 delegates. <br>\n",
    "Minimum Container Size: medium <br>\n",
    "Questions welcome at <a href=\"https://community.lsst.org/c/support/dp0\">community.lsst.org/c/support/dp0</a> <br>\n",
    "Find DP0 documentation and resources at <a href=\"https://dp0-1.lsst.io\">dp0-1.lsst.io</a> <br>"
   ]
  },
  {
   "cell_type": "markdown",
   "id": "03f235aa-b5b6-4df6-899e-9396da707d7a",
   "metadata": {},
   "source": [
    "### Learning Objective\n",
    "\n",
    "A guided walk through Butler Gen3\n",
    "\n",
    "References: https://github.com/lsst-dm/Nov19_bootcamp/blob/main/notebooks/Gen3Butler.ipynb"
   ]
  },
  {
   "cell_type": "markdown",
   "id": "8529de03-9ebd-4b48-9efe-724bf533b297",
   "metadata": {},
   "source": [
    "### Setup "
   ]
  },
  {
   "cell_type": "code",
   "execution_count": null,
   "id": "d34ecbf4-e5b3-49e1-9922-d6c9ac1bbda8",
   "metadata": {},
   "outputs": [],
   "source": [
    "# General python imports\n",
    "import numpy as np\n",
    "import warnings\n",
    "\n",
    "# Astropy\n",
    "from astropy.visualization import  ZScaleInterval, AsinhStretch\n",
    "\n",
    "# LSST imports\n",
    "from lsst.daf.butler import CollectionType, DatasetType, Butler\n",
    "\n",
    "# Bokeh and Holoviews for visualization\n",
    "import bokeh\n",
    "from bokeh.io import output_notebook\n",
    "from bokeh.models import HoverTool\n",
    "\n",
    "import holoviews as hv\n",
    "from holoviews import streams, opts\n",
    "from holoviews.operation.datashader import rasterize\n",
    "\n",
    "# Set the holoviews plotting library to be bokeh\n",
    "# You will see the holoviews + bokeh icons displayed when the library is loaded successfully\n",
    "hv.extension('bokeh')\n",
    "\n",
    "# Display bokeh plots inline in the notebook\n",
    "output_notebook()"
   ]
  },
  {
   "cell_type": "code",
   "execution_count": null,
   "id": "c453e744-f6e5-4afe-840d-cdd428ee2437",
   "metadata": {},
   "outputs": [],
   "source": [
    "### Instantiate a Butler to work with DP0.1"
   ]
  },
  {
   "cell_type": "code",
   "execution_count": null,
   "id": "a520fb51-3151-47e6-9b92-891aaf1508d6",
   "metadata": {},
   "outputs": [],
   "source": [
    "# Instantiate the Butler initializing it with the repository name and the DP0.1 collection identifier\n",
    "from lsst.daf.butler import Butler\n",
    "repo = 's3://butler-us-central1-dp01'\n",
    "collection = '2.2i/runs/DP0.1'\n",
    "butler = Butler(repo, collections=collection)"
   ]
  },
  {
   "cell_type": "markdown",
   "id": "d0d29760-3252-4742-be72-29fb120990cf",
   "metadata": {},
   "source": [
    "#### Start with a coadded image \n"
   ]
  },
  {
   "cell_type": "code",
   "execution_count": null,
   "id": "86b6667c-b24e-47c7-839d-a8dad1cf355e",
   "metadata": {},
   "outputs": [],
   "source": [
    "coaddId = {'tract': 4226, 'patch': 17, 'band': 'r'}\n",
    "coadd = butler.get('deepCoadd', coaddId)\n",
    "assert coadd is not None"
   ]
  },
  {
   "cell_type": "code",
   "execution_count": 64,
   "id": "b2a9ae61-9e84-4606-8e60-e95f4cc1f93c",
   "metadata": {},
   "outputs": [],
   "source": [
    "import shutil, os, yaml\n",
    "from lsst.daf.butler import CollectionType, DatasetType, Butler"
   ]
  },
  {
   "cell_type": "code",
   "execution_count": 65,
   "id": "a813cdc5-5f44-455d-bd4f-079651cd9fba",
   "metadata": {},
   "outputs": [],
   "source": [
    "testCaseName = \"LVV-T2476\"\n",
    "baseDir = \"/home/leannep/WORK\"\n",
    "testDir = os.path.join(baseDir, testCaseName)\n",
    "if os.path.exists(testDir):\n",
    "    shutil.rmtree(testDir)\n",
    "os.makedirs(testDir)"
   ]
  },
  {
   "cell_type": "code",
   "execution_count": 66,
   "id": "bc37c373-09a2-4ce0-a29a-5e83309d02bc",
   "metadata": {},
   "outputs": [
    {
     "data": {
      "text/plain": [
       "Config({'datastore': {'root': '<butlerRoot>', 'cls': 'lsst.daf.butler.datastores.fileDatastore.FileDatastore', 'records': {'table': 'file_datastore_records'}}, 'registry': {'db': 'sqlite:///<butlerRoot>/gen3.sqlite3', 'managers': {'attributes': 'lsst.daf.butler.registry.attributes.DefaultButlerAttributeManager', 'opaque': 'lsst.daf.butler.registry.opaque.ByNameOpaqueTableStorageManager', 'dimensions': 'lsst.daf.butler.registry.dimensions.static.StaticDimensionRecordStorageManager', 'collections': 'lsst.daf.butler.registry.collections.synthIntKey.SynthIntKeyCollectionManager', 'datasets': 'lsst.daf.butler.registry.datasets.byDimensions.ByDimensionsDatasetRecordStorageManagerUUID', 'datastores': 'lsst.daf.butler.registry.bridge.monolithic.MonolithicDatastoreRegistryBridgeManager'}}})"
      ]
     },
     "execution_count": 66,
     "metadata": {},
     "output_type": "execute_result"
    }
   ],
   "source": [
    "repo = os.path.join(testDir, \"repo/yaml\")\n",
    "config = Butler.makeRepo(repo)"
   ]
  },
  {
   "cell_type": "code",
   "execution_count": 9,
   "id": "61bb5847-8814-423f-95d3-652463c3589b",
   "metadata": {},
   "outputs": [],
   "source": [
    "butler = Butler(repo, writeable=True)\n",
    "registry = butler.registry "
   ]
  },
  {
   "cell_type": "code",
   "execution_count": 11,
   "id": "9e2151c0-73eb-4b8b-8fe9-11cbddd9ec99",
   "metadata": {},
   "outputs": [],
   "source": []
  },
  {
   "cell_type": "code",
   "execution_count": 20,
   "id": "4871c4bc-cf32-4fa5-9af5-2ea926e12cd9",
   "metadata": {},
   "outputs": [],
   "source": [
    "from lsst.daf.butler import ButlerConfig"
   ]
  },
  {
   "cell_type": "code",
   "execution_count": 21,
   "id": "c6ed281f-5a44-47d9-b8d8-dd9717cc69b6",
   "metadata": {},
   "outputs": [],
   "source": [
    "config = ButlerConfig(repo)"
   ]
  },
  {
   "cell_type": "code",
   "execution_count": 31,
   "id": "002f6c5c-8436-49aa-822d-e728606eed46",
   "metadata": {},
   "outputs": [],
   "source": [
    "config = ButlerConfig(repo)"
   ]
  },
  {
   "cell_type": "code",
   "execution_count": 32,
   "id": "4cee2a18-84a4-47c2-9ac6-4d512ed29090",
   "metadata": {},
   "outputs": [
    {
     "data": {
      "text/plain": [
       "lsst.daf.butler._butlerConfig.ButlerConfig"
      ]
     },
     "execution_count": 32,
     "metadata": {},
     "output_type": "execute_result"
    }
   ],
   "source": [
    "type(config)"
   ]
  },
  {
   "cell_type": "code",
   "execution_count": 46,
   "id": "087cf684-a430-4017-ae2a-cf3f86588bfd",
   "metadata": {},
   "outputs": [],
   "source": [
    "d = config.toDict()\n",
    "d['datastore']['formatters']['StructuredDataDict'] = 'lsst.daf.butler.formatters.json.JsonFormatter'"
   ]
  },
  {
   "cell_type": "code",
   "execution_count": 47,
   "id": "acc17aed-f82c-40dc-9581-fdb5ab5c300c",
   "metadata": {},
   "outputs": [
    {
     "name": "stdout",
     "output_type": "stream",
     "text": [
      "lsst.daf.butler.formatters.json.JsonFormatter\n"
     ]
    }
   ],
   "source": [
    "print(d['datastore']['formatters']['StructuredDataDict'])"
   ]
  },
  {
   "cell_type": "code",
   "execution_count": 54,
   "id": "d6180814-cf18-4042-8626-92c99037a4f9",
   "metadata": {},
   "outputs": [],
   "source": [
    "with open('test.yaml', 'w') as outStream:\n",
    "    yaml.safe_dump(d, outStream, default_flow_style=False, explicit_start=True)"
   ]
  },
  {
   "cell_type": "code",
   "execution_count": 56,
   "id": "7b0e4bf2-bdfa-43d6-9a3a-52667e89d328",
   "metadata": {},
   "outputs": [],
   "source": [
    "repo_json = \"repo/json\"\n",
    "assert Butler.makeRepo(repo_json, config=\"test.yaml\") is not None"
   ]
  },
  {
   "cell_type": "code",
   "execution_count": 60,
   "id": "fd16d0f1-1022-42de-8032-ed855afc2f81",
   "metadata": {},
   "outputs": [
    {
     "data": {
      "text/plain": [
       "False"
      ]
     },
     "execution_count": 60,
     "metadata": {},
     "output_type": "execute_result"
    }
   ],
   "source": [
    "butler = Butler(repo_json, writeable=True)\n",
    "butler.registry.registerCollection(\"c\", CollectionType.RUN)"
   ]
  },
  {
   "cell_type": "code",
   "execution_count": 62,
   "id": "b04565fd-8641-4f2c-a9b5-6a9811e3f493",
   "metadata": {},
   "outputs": [
    {
     "data": {
      "text/plain": [
       "False"
      ]
     },
     "execution_count": 62,
     "metadata": {},
     "output_type": "execute_result"
    }
   ],
   "source": [
    "dataset_type = DatasetType(\"dt\", (), \"StructuredDataDict\", universe=butler.registry.dimensions)\n",
    "butler.registry.registerDatasetType(dataset_type)"
   ]
  },
  {
   "cell_type": "code",
   "execution_count": null,
   "id": "a292b8ec-7faf-45e7-b16a-efe69f6ccf3a",
   "metadata": {},
   "outputs": [],
   "source": [
    "butler.put({\"key\": \"value\"}, dataset_type, {}, run=\"c\")\n",
    "print(butler.getURI(dataset_type, {}))"
   ]
  }
 ],
 "metadata": {
  "kernelspec": {
   "display_name": "LSST",
   "language": "python",
   "name": "lsst"
  },
  "language_info": {
   "codemirror_mode": {
    "name": "ipython",
    "version": 3
   },
   "file_extension": ".py",
   "mimetype": "text/x-python",
   "name": "python",
   "nbconvert_exporter": "python",
   "pygments_lexer": "ipython3",
   "version": "3.8.12"
  }
 },
 "nbformat": 4,
 "nbformat_minor": 5
}
