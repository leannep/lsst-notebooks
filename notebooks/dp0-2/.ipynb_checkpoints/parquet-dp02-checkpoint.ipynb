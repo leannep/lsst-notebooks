{
 "cells": [
  {
   "cell_type": "code",
   "execution_count": 4,
   "id": "865c45da-dcb5-4236-b583-b72fe016868a",
   "metadata": {},
   "outputs": [],
   "source": [
    "# imports \n",
    "import numpy as np\n",
    "import matplotlib.pyplot as plt\n",
    "plt.style.use('tableau-colorblind10')\n",
    "\n",
    "# Astropy\n",
    "import astropy.units as u\n",
    "from astropy.coordinates import SkyCoord\n",
    "from astropy.timeseries import LombScargle\n",
    "\n",
    "# LSST Science Pipelines (Stack) packages\n",
    "import lsst.daf.butler as dafButler\n",
    "\n",
    "# LSST package for TAP queries\n",
    "from lsst.rsp import get_tap_service"
   ]
  },
  {
   "cell_type": "code",
   "execution_count": 5,
   "id": "62a3d147-5e8c-419c-9b6f-867053bc162d",
   "metadata": {},
   "outputs": [
    {
     "data": {
      "text/html": [
       "<pre style=\"margin: 0.1em;\n",
       "padding-left: 0.25em;\n",
       "border-left-style: solid;\n",
       "font-family: var(--jp-code-font-family);\n",
       "font-size: var(--jp-code-font-size);\n",
       "line-height: var(--jp-code-line-height);\n",
       "\"><span style=\"color: var(--jp-warn-color2)\">botocore.credentials</span> <span style=\"color: var(--jp-info-color0)\">INFO</span>: Found credentials in shared credentials file: /home/leannep/.lsst/aws-credentials.ini</pre>"
      ],
      "text/plain": [
       "<IPython.core.display.HTML object>"
      ]
     },
     "metadata": {},
     "output_type": "display_data"
    },
    {
     "name": "stderr",
     "output_type": "stream",
     "text": [
      "\n",
      "WARNING: version mismatch between CFITSIO header (v4.000999999999999) and linked library (v4.01).\n",
      "\n",
      "\n",
      "WARNING: version mismatch between CFITSIO header (v4.000999999999999) and linked library (v4.01).\n",
      "\n",
      "\n",
      "WARNING: version mismatch between CFITSIO header (v4.000999999999999) and linked library (v4.01).\n",
      "\n"
     ]
    }
   ],
   "source": [
    "# Create an instance of the Butler pointing to the DP0.2 repository\n",
    "config = 'dp02'\n",
    "collections = '2.2i/runs/DP0.2'\n",
    "butler = dafButler.Butler(config=config, collections=collections)"
   ]
  },
  {
   "cell_type": "code",
   "execution_count": 9,
   "id": "8c2e0814-70f8-4587-88ce-411cf474bac3",
   "metadata": {},
   "outputs": [
    {
     "data": {
      "text/html": [
       "<div>\n",
       "<style scoped>\n",
       "    .dataframe tbody tr th:only-of-type {\n",
       "        vertical-align: middle;\n",
       "    }\n",
       "\n",
       "    .dataframe tbody tr th {\n",
       "        vertical-align: top;\n",
       "    }\n",
       "\n",
       "    .dataframe thead th {\n",
       "        text-align: right;\n",
       "    }\n",
       "</style>\n",
       "<table border=\"1\" class=\"dataframe\">\n",
       "  <thead>\n",
       "    <tr style=\"text-align: right;\">\n",
       "      <th>column</th>\n",
       "      <th>coord_ra</th>\n",
       "      <th>coord_dec</th>\n",
       "    </tr>\n",
       "    <tr>\n",
       "      <th>objectId</th>\n",
       "      <th></th>\n",
       "      <th></th>\n",
       "    </tr>\n",
       "  </thead>\n",
       "  <tbody>\n",
       "    <tr>\n",
       "      <th>1909842901353889793</th>\n",
       "      <td>55.256758</td>\n",
       "      <td>-32.760136</td>\n",
       "    </tr>\n",
       "    <tr>\n",
       "      <th>1909842901353889794</th>\n",
       "      <td>55.243151</td>\n",
       "      <td>-32.760148</td>\n",
       "    </tr>\n",
       "    <tr>\n",
       "      <th>1909842901353889795</th>\n",
       "      <td>55.238659</td>\n",
       "      <td>-32.760133</td>\n",
       "    </tr>\n",
       "    <tr>\n",
       "      <th>1909842901353889796</th>\n",
       "      <td>55.235951</td>\n",
       "      <td>-32.760124</td>\n",
       "    </tr>\n",
       "    <tr>\n",
       "      <th>1909842901353889797</th>\n",
       "      <td>55.234168</td>\n",
       "      <td>-32.760007</td>\n",
       "    </tr>\n",
       "    <tr>\n",
       "      <th>...</th>\n",
       "      <td>...</td>\n",
       "      <td>...</td>\n",
       "    </tr>\n",
       "    <tr>\n",
       "      <th>1909842901353943296</th>\n",
       "      <td>55.007484</td>\n",
       "      <td>-32.585168</td>\n",
       "    </tr>\n",
       "    <tr>\n",
       "      <th>1909842901353943297</th>\n",
       "      <td>55.158459</td>\n",
       "      <td>-32.579094</td>\n",
       "    </tr>\n",
       "    <tr>\n",
       "      <th>1909842901353943298</th>\n",
       "      <td>55.207050</td>\n",
       "      <td>-32.553852</td>\n",
       "    </tr>\n",
       "    <tr>\n",
       "      <th>1909842901353943299</th>\n",
       "      <td>55.233109</td>\n",
       "      <td>-32.546243</td>\n",
       "    </tr>\n",
       "    <tr>\n",
       "      <th>1909842901353943300</th>\n",
       "      <td>55.017430</td>\n",
       "      <td>-32.544369</td>\n",
       "    </tr>\n",
       "  </tbody>\n",
       "</table>\n",
       "<p>38872 rows × 2 columns</p>\n",
       "</div>"
      ],
      "text/plain": [
       "column                coord_ra  coord_dec\n",
       "objectId                                 \n",
       "1909842901353889793  55.256758 -32.760136\n",
       "1909842901353889794  55.243151 -32.760148\n",
       "1909842901353889795  55.238659 -32.760133\n",
       "1909842901353889796  55.235951 -32.760124\n",
       "1909842901353889797  55.234168 -32.760007\n",
       "...                        ...        ...\n",
       "1909842901353943296  55.007484 -32.585168\n",
       "1909842901353943297  55.158459 -32.579094\n",
       "1909842901353943298  55.207050 -32.553852\n",
       "1909842901353943299  55.233109 -32.546243\n",
       "1909842901353943300  55.017430 -32.544369\n",
       "\n",
       "[38872 rows x 2 columns]"
      ]
     },
     "execution_count": 9,
     "metadata": {},
     "output_type": "execute_result"
    }
   ],
   "source": [
    "# Get data from parquet file into pandas data frame \n",
    "# parameters={\"columns\": [ \"psfFlux\", \"psfFluxErr\"]}\n",
    "butler.get(\"objectTable\", dataId={\"tract\": 4431, \"patch\": 5}, \n",
    "          parameters={\"columns\": [ \"coord_ra\", \"coord_dec\"]})"
   ]
  },
  {
   "cell_type": "code",
   "execution_count": null,
   "id": "ce3ba2e8-0dd1-4ef3-b7cc-dab630add045",
   "metadata": {},
   "outputs": [],
   "source": []
  }
 ],
 "metadata": {
  "kernelspec": {
   "display_name": "LSST",
   "language": "python",
   "name": "lsst"
  },
  "language_info": {
   "codemirror_mode": {
    "name": "ipython",
    "version": 3
   },
   "file_extension": ".py",
   "mimetype": "text/x-python",
   "name": "python",
   "nbconvert_exporter": "python",
   "pygments_lexer": "ipython3",
   "version": "3.10.4"
  }
 },
 "nbformat": 4,
 "nbformat_minor": 5
}
