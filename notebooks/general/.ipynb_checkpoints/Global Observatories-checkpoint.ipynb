{
 "cells": [
  {
   "cell_type": "markdown",
   "id": "a0788f77-774c-4345-9157-113d4282794c",
   "metadata": {},
   "source": [
    "## Map of all observatories globally"
   ]
  },
  {
   "cell_type": "code",
   "execution_count": 3,
   "id": "4ae83d72-25bd-46a3-8100-9b2394106ed8",
   "metadata": {},
   "outputs": [],
   "source": [
    "import pandas as pd\n",
    "import geopandas as gpd\n",
    "import geoviews as gv\n",
    "import geoviews.feature as gf\n",
    "from geoviews import opts\n",
    "from cartopy import crs \n",
    "import geoviews.tile_sources as gts"
   ]
  },
  {
   "cell_type": "code",
   "execution_count": 4,
   "id": "3f0f60fa-dc4e-4389-ae4d-f59a03f1fcff",
   "metadata": {},
   "outputs": [
    {
     "ename": "SyntaxError",
     "evalue": "invalid character '‘' (U+2018) (3719391145.py, line 1)",
     "output_type": "error",
     "traceback": [
      "\u001b[0;36m  Input \u001b[0;32mIn [4]\u001b[0;36m\u001b[0m\n\u001b[0;31m    gv.extension(‘bokeh’)\u001b[0m\n\u001b[0m                 ^\u001b[0m\n\u001b[0;31mSyntaxError\u001b[0m\u001b[0;31m:\u001b[0m invalid character '‘' (U+2018)\n"
     ]
    }
   ],
   "source": [
    "gv.extension(‘bokeh’)"
   ]
  },
  {
   "cell_type": "code",
   "execution_count": 5,
   "id": "5d3ac924-35ed-4ff7-9472-cb2f15bb3783",
   "metadata": {},
   "outputs": [],
   "source": [
    "# test data - eventuallt this will be in a file to be read in \n",
    "data = [['Rubin', 10, 10], ['A', 15, 20], ['B', 14, 20]]\n",
    "\n",
    "df = pd.DataFrame(data, columns=['name', 'lat', 'lon])\n"
   ]
  },
  {
   "cell_type": "code",
   "execution_count": null,
   "id": "e56c73fd-83b9-49a1-bbdd-c0182b5a3901",
   "metadata": {},
   "outputs": [],
   "source": []
  }
 ],
 "metadata": {
  "kernelspec": {
   "display_name": "LSST",
   "language": "python",
   "name": "lsst"
  },
  "language_info": {
   "codemirror_mode": {
    "name": "ipython",
    "version": 3
   },
   "file_extension": ".py",
   "mimetype": "text/x-python",
   "name": "python",
   "nbconvert_exporter": "python",
   "pygments_lexer": "ipython3",
   "version": "3.10.5"
  }
 },
 "nbformat": 4,
 "nbformat_minor": 5
}
