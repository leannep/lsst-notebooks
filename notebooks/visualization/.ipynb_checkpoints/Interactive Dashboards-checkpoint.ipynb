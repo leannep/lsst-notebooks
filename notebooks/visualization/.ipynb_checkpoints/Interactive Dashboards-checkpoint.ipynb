{
 "cells": [
  {
   "cell_type": "code",
   "execution_count": null,
   "id": "e7a85746",
   "metadata": {},
   "outputs": [],
   "source": [
    "import pandas as pd\n",
    "import holoviews as hv\n",
    "\n",
    "import bokeh.sampledata \n",
    "bokeh.sampledata.download(True)\n",
    "from bokeh.sampledata import stocks\n",
    "\n",
    "from holoviews.operation.timeseries import rolling, rolling_outlier_std\n",
    "\n",
    "hv.extension('bokeh')"
   ]
  },
  {
   "cell_type": "code",
   "execution_count": null,
   "id": "631dc9a7",
   "metadata": {},
   "outputs": [],
   "source": [
    "def load_symbol(symbol, variable, **kwargs):\n",
    "    df = pd.DataFrame(getattr(stocks, symbol))\n",
    "    df['date'] = df.date.astype('datetime64[ns]')\n",
    "    return hv.Curve(df, ('date', 'Date'), variable).opts(framewise=True)\n",
    "\n",
    "stock_symbols = ['AAPL', 'IBM', 'FB', 'GOOG', 'MSFT']\n",
    "variables = ['open', 'high', 'low', 'close', 'volume', 'adj_close']\n",
    "dmap = hv.DynamicMap(load_symbol, kdims=['Symbol','Variable'])\n",
    "dmap = dmap.redim.values(Symbol=stock_symbols, Variable=variables)\n",
    "\n",
    "dmap.opts(framewise=True)\n",
    "rolling(dmap, rolling_window=2)"
   ]
  },
  {
   "cell_type": "code",
   "execution_count": null,
   "id": "776adbc5",
   "metadata": {},
   "outputs": [],
   "source": [
    "import panel as pn\n",
    "\n",
    "symbol = pn.widgets.RadioButtonGroup(options=stock_symbols)\n",
    "variable = pn.widgets.Select(options=variables)\n",
    "rolling_window = pn.widgets.IntSlider(name='Rolling Window', value=10, start=1, end=365)\n",
    "\n",
    "pn.Column(symbol, variable, rolling_window)"
   ]
  },
  {
   "cell_type": "code",
   "execution_count": null,
   "id": "9bd363b3",
   "metadata": {},
   "outputs": [],
   "source": [
    "dmap = hv.DynamicMap(pn.bind(load_symbol, symbol=symbol, variable=variable))\n",
    "smoothed = rolling(dmap, rolling_window=rolling_window)\n",
    "\n",
    "app = pn.Row(pn.WidgetBox('## Stock Explorer', symbol, variable, rolling_window), \n",
    "             smoothed.opts(width=500, framewise=True)).servable()\n",
    "app"
   ]
  },
  {
   "cell_type": "code",
   "execution_count": null,
   "id": "a2b0a017",
   "metadata": {},
   "outputs": [],
   "source": [
    "from holoviews.operation.datashader import datashade, dynspread\n",
    "\n",
    "class AdvancedStockExplorer(StockExplorer):    \n",
    "\n",
    "    datashade = param.Boolean(default=False)\n",
    "\n",
    "    @param.depends('datashade')\n",
    "    def view(self):\n",
    "        stocks = hv.DynamicMap(self.load_symbol)\n",
    "\n",
    "        # Apply rolling mean\n",
    "        smoothed = rolling(stocks, rolling_window=self.param.rolling_window)\n",
    "        if self.datashade:\n",
    "            smoothed = dynspread(datashade(smoothed, aggregator='any')).opts(framewise=True)\n",
    "\n",
    "        # Find outliers\n",
    "        outliers = rolling_outlier_std(stocks, rolling_window=self.param.rolling_window).opts(\n",
    "            width=600, color='red', marker='triangle', framewise=True)\n",
    "        return (smoothed * outliers)\n"
   ]
  },
  {
   "cell_type": "code",
   "execution_count": null,
   "id": "74166cb4",
   "metadata": {},
   "outputs": [],
   "source": [
    "explorer = AdvancedStockExplorer()\n",
    "pn.Row(explorer.param, explorer.view)"
   ]
  }
 ],
 "metadata": {
  "kernelspec": {
   "display_name": "LSST",
   "language": "python",
   "name": "lsst"
  },
  "language_info": {
   "codemirror_mode": {
    "name": "ipython",
    "version": 3
   },
   "file_extension": ".py",
   "mimetype": "text/x-python",
   "name": "python",
   "nbconvert_exporter": "python",
   "pygments_lexer": "ipython3",
   "version": "3.8.8"
  }
 },
 "nbformat": 4,
 "nbformat_minor": 5
}
